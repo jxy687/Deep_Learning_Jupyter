{
 "cells": [
  {
   "cell_type": "code",
   "execution_count": 1,
   "id": "e7c42643",
   "metadata": {},
   "outputs": [],
   "source": [
    "import numpy as np\n",
    "from torch import nn,optim\n",
    "from torch.autograd import Variable\n",
    "from torchvision import datasets, transforms\n",
    "from torch.utils.data import DataLoader\n",
    "import torch"
   ]
  },
  {
   "cell_type": "code",
   "execution_count": 2,
   "id": "2bd34241",
   "metadata": {},
   "outputs": [],
   "source": [
    "# 训练集\n",
    "train_dataset = datasets.MNIST(root='./',\n",
    "                               train=True,\n",
    "                               transform=transforms.ToTensor(),\n",
    "                               download=True)\n",
    "# 测试集\n",
    "test_dataset = datasets.MNIST(root='./',\n",
    "                               train=False,\n",
    "                               transform=transforms.ToTensor(),\n",
    "                               download=True)"
   ]
  },
  {
   "cell_type": "code",
   "execution_count": 3,
   "id": "3e046498",
   "metadata": {},
   "outputs": [],
   "source": [
    "# 批次大小  想想数据为为什么要分批\n",
    "batch_size =64\n",
    "# 装载训练集\n",
    "train_loader = DataLoader(dataset=train_dataset,\n",
    "                         batch_size=batch_size,\n",
    "                         shuffle=True)\n",
    "# 装载测试集\n",
    "test_loader = DataLoader(dataset=test_dataset,\n",
    "                         batch_size=batch_size,\n",
    "                         shuffle=True)"
   ]
  },
  {
   "cell_type": "code",
   "execution_count": 4,
   "id": "29c748f9",
   "metadata": {},
   "outputs": [
    {
     "name": "stdout",
     "output_type": "stream",
     "text": [
      "60000\n",
      "10000\n",
      "938\n",
      "157\n"
     ]
    }
   ],
   "source": [
    "print(len(train_dataset))\n",
    "print(len(test_dataset))\n",
    "print(len(train_loader))\n",
    "print(len(test_loader))"
   ]
  },
  {
   "cell_type": "code",
   "execution_count": 5,
   "id": "46c10b1b",
   "metadata": {},
   "outputs": [
    {
     "name": "stdout",
     "output_type": "stream",
     "text": [
      "torch.Size([64, 1, 28, 28])\n",
      "torch.Size([64])\n"
     ]
    }
   ],
   "source": [
    "for i,data in enumerate(train_loader):\n",
    "    inputs,lables = data\n",
    "    print(inputs.shape)\n",
    "    print(lables.shape)\n",
    "    break"
   ]
  },
  {
   "cell_type": "code",
   "execution_count": 6,
   "id": "9f69b4a6",
   "metadata": {},
   "outputs": [
    {
     "data": {
      "text/plain": [
       "938"
      ]
     },
     "execution_count": 6,
     "metadata": {},
     "output_type": "execute_result"
    }
   ],
   "source": [
    "len(train_loader)"
   ]
  },
  {
   "cell_type": "code",
   "execution_count": 7,
   "id": "aec639d1",
   "metadata": {},
   "outputs": [],
   "source": [
    "#定义网络结构\n",
    "class Net(nn.Module):\n",
    "    def __init__(self):\n",
    "        super(Net,self).__init__()\n",
    "        #卷积层和池化层\n",
    "        #[64,1,28,28]->[64,32,28,28]->[64,32,14,14]\n",
    "        self.conv1 = nn.Sequential(nn.Conv2d(1,32,5,1,2), nn.ReLU(), nn.MaxPool2d(2,2))\n",
    "        #[64,32,14,14]->[64,64,14,14]->[64,64,7,7]\n",
    "        self.conv2 = nn.Sequential(nn.Conv2d(32,64,5,1,2), nn.ReLU(), nn.MaxPool2d(2,2))\n",
    "        #全连接层\n",
    "        #[64,64*7*7]->[64,1000]\n",
    "        self.fc1 = nn.Sequential(nn.Linear(64*7*7,1000), nn.Dropout(p=0.5), nn.ReLU())\n",
    "        #[64,1000]->[64,10]\n",
    "        self.fc2 = nn.Sequential(nn.Linear(1000,10), nn.Softmax(dim=1))\n",
    "    def forward(self,x):\n",
    "        #[64,1,28,28] 64是批次 1是通道（黑白是1，彩色是3） 28 28是图片分辨率\n",
    "        #卷积神经网络需要的数据是4维\n",
    "        x=self.conv1(x)\n",
    "        x=self.conv2(x)\n",
    "        #全连接层需要进行数据格式的转换 [64,64,7,7]->[64,64*7*7]\n",
    "        x=x.view(x.size()[0],-1)\n",
    "        x=self.fc1(x)\n",
    "        x=self.fc2(x)\n",
    "        return x"
   ]
  },
  {
   "cell_type": "code",
   "execution_count": 8,
   "id": "0baec380",
   "metadata": {},
   "outputs": [],
   "source": [
    "LR = 0.0003 #Adam优化器的学习率一般设置的较低\n",
    "#定义模型\n",
    "model = Net()\n",
    "#定义代价函数\n",
    "mes_loss = nn.MSELoss()\n",
    "#定义优化器\n",
    "optimizer = optim.Adam(model.parameters(),LR)"
   ]
  },
  {
   "cell_type": "code",
   "execution_count": 9,
   "id": "41fdd7c2",
   "metadata": {},
   "outputs": [],
   "source": [
    "#训练模型\n",
    "def train():\n",
    "    for i ,data in enumerate(train_loader):\n",
    "        #获得一个批次的数据和标签\n",
    "        inputs,lables = data\n",
    "        #获得模型预测结果\n",
    "        out = model(inputs) #[64,10]\n",
    "        #把数据标签变成独热编码\n",
    "        #[64]->[64,1]\n",
    "        lables = lables.reshape(-1,1)\n",
    "        #tensor.scatter(dim,index,scr)\n",
    "        \n",
    "        #dim:对那个维度进行独热编码\n",
    "        #index:要将scr中的值放在tensor中的哪个位置\n",
    "        #scr:插入index中的值\n",
    "        one_hot = torch.zeros(inputs.shape[0],10).scatter(1,lables,1)\n",
    "        #计算loss\n",
    "        loss = mes_loss(out,one_hot)\n",
    "        #梯度清零\n",
    "        optimizer.zero_grad()\n",
    "        #计算梯度\n",
    "        loss.backward()\n",
    "        #修改权值\n",
    "        optimizer.step()"
   ]
  },
  {
   "cell_type": "code",
   "execution_count": 10,
   "id": "0d7ba50d",
   "metadata": {},
   "outputs": [],
   "source": [
    "def test():\n",
    "    correct=0\n",
    "    for i,data in enumerate(test_loader):\n",
    "        #获得一个批次的数据和标签\n",
    "        inputs,lables = data\n",
    "        #获得模型的预测结果 [64,10]\n",
    "        out = model(inputs)\n",
    "        #获得最大值以及最大值所在的位置\n",
    "        _, predicted = torch.max(out,1)\n",
    "        correct += (predicted==lables).sum()\n",
    "        \n",
    "    print(\"Test acc:{0}\".format(correct.item()/len(test_dataset)))\n",
    "    print(correct)\n",
    "        "
   ]
  },
  {
   "cell_type": "code",
   "execution_count": 11,
   "id": "a01c0047",
   "metadata": {},
   "outputs": [
    {
     "name": "stdout",
     "output_type": "stream",
     "text": [
      "epoch: 0\n",
      "Test acc:0.9783\n",
      "tensor(9783)\n",
      "epoch: 1\n",
      "Test acc:0.9852\n",
      "tensor(9852)\n"
     ]
    }
   ],
   "source": [
    "for epoch in range(2):\n",
    "    print(\"epoch:\",epoch)\n",
    "    train()\n",
    "    test()"
   ]
  },
  {
   "cell_type": "code",
   "execution_count": 13,
   "id": "8d80be89",
   "metadata": {},
   "outputs": [],
   "source": [
    "#模型保存 保存训练后的权值\n",
    "torch.save(model.state_dict(),'model/minst_cnn_model.pth')"
   ]
  }
 ],
 "metadata": {
  "kernelspec": {
   "display_name": "DL",
   "language": "python",
   "name": "dl"
  },
  "language_info": {
   "codemirror_mode": {
    "name": "ipython",
    "version": 3
   },
   "file_extension": ".py",
   "mimetype": "text/x-python",
   "name": "python",
   "nbconvert_exporter": "python",
   "pygments_lexer": "ipython3",
   "version": "3.9.20"
  }
 },
 "nbformat": 4,
 "nbformat_minor": 5
}
