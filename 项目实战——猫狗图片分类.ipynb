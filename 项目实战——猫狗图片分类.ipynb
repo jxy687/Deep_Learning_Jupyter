{
 "cells": [
  {
   "cell_type": "code",
   "execution_count": null,
   "id": "c1493b83",
   "metadata": {},
   "outputs": [],
   "source": [
    "import  torch\n",
    "import  torch.nn as nn\n",
    "import torch.optim as optim\n",
    "from torchvision import datasets,transforms,models\n",
    "from torch.utils.data import DataLoader\n",
    "import sys"
   ]
  },
  {
   "cell_type": "code",
   "execution_count": null,
   "id": "29cacf89",
   "metadata": {},
   "outputs": [],
   "source": [
    "#数据预处理\n",
    "transform = transforms.Compose([\n",
    "    transforms.RandomResizedCrop(224),#对图像进行随机的crop后再resize成固定的大小\n",
    "    transforms.RandomRotation(20),#随机选择角度\n",
    "    transforms.RandomHorizontalFlip(p=0.5),#随机水平翻转\n",
    "    transforms.ToTensor()\n",
    "])"
   ]
  },
  {
   "cell_type": "code",
   "execution_count": null,
   "id": "f13fe238",
   "metadata": {},
   "outputs": [],
   "source": [
    "#读取数据\n",
    "root = 'image'#一个文件夹\n",
    "train_dataset = datasets.ImageFolder(root+\"/train\",transform)#train是image的子文件夹\n",
    "test_dataset = datasets.ImageFolder(root+\"/test\",transform)\n",
    "\n",
    "#导入数据\n",
    "train_loader = torch.utils.data.DataLoader(train_dataset,batch_size=8,shuffle=True)\n",
    "test_loader = torch.utils.data.DataLoader(test_dataset,batch_size=8,shuffle=True)"
   ]
  },
  {
   "cell_type": "code",
   "execution_count": null,
   "id": "9f7340b3",
   "metadata": {},
   "outputs": [],
   "source": [
    "a = train_dataset.classes\n",
    "b = train_dataset.class_to_idx\n",
    "print(a)\n",
    "print(b)"
   ]
  },
  {
   "cell_type": "code",
   "execution_count": null,
   "id": "1361c3c8",
   "metadata": {},
   "outputs": [],
   "source": [
    "model = models.vgg16(pretrained=True)#使用别人已经训练好的模型\n",
    "print(model)"
   ]
  },
  {
   "cell_type": "code",
   "execution_count": null,
   "id": "94982316",
   "metadata": {},
   "outputs": [],
   "source": [
    "#如果只想训练模型的全连接层，加入以下代码，删除会训练vgg模型的所有参数，包括卷积层\n",
    "for param in model.parameters():\n",
    "    param.requires_grad = False\n",
    "#########################################\n",
    "#构建新的连接层\n",
    "model.classifier = torch.nn.Sequential(torch.nn.Linear(25088,100),\n",
    "                                       torch.nn.ReLU(),\n",
    "                                       torch.nn.Dropout(p=0.5),\n",
    "                                       torch.nn.Linear(100,2))#25088=224*224,使用交叉熵里面包含了Softmax"
   ]
  },
  {
   "cell_type": "code",
   "execution_count": null,
   "id": "ec9b30a3",
   "metadata": {},
   "outputs": [],
   "source": [
    "LR = 0.0003 #学习率\n",
    "#定义代价函数\n",
    "entrpoy_loss = nn.CrossEntropyLoss()\n",
    "#定义优化器\n",
    "optimizer = optim.Adam(model.parameters(),LR)"
   ]
  },
  {
   "cell_type": "code",
   "execution_count": null,
   "id": "76211520",
   "metadata": {},
   "outputs": [],
   "source": [
    "def train():\n",
    "    model.train()\n",
    "    for i ,data in enumerate(train_loader):\n",
    "        #获得一个批次的数据和标签\n",
    "        inputs,lables = data\n",
    "        #获得模型预测结果\n",
    "        out = model(inputs) #[64,10]\n",
    "        #计算loss 使用交叉熵不需要进行独热编码\n",
    "        loss = entrpoy_loss(out,lables)\n",
    "        #梯度清零\n",
    "        optimizer.zero_grad()\n",
    "        #计算梯度\n",
    "        loss.backward()\n",
    "        #修改权值\n",
    "        optimizer.step()"
   ]
  },
  {
   "cell_type": "code",
   "execution_count": null,
   "id": "dc50b48b",
   "metadata": {},
   "outputs": [],
   "source": [
    "def test():\n",
    "    model.eval()\n",
    "    correct = 0\n",
    "    for i, data in enumerate(test_loader):\n",
    "        # 获得一个批次的数据和标签\n",
    "        inputs, lables = data\n",
    "        # 获得模型的预测结果 [64,10]\n",
    "        out = model(inputs)\n",
    "        # 获得最大值以及最大值所在的位置\n",
    "        _, predicted = torch.max(out, 1)\n",
    "        correct += (predicted == lables).sum()\n",
    "\n",
    "    print(\"Test acc:{0}\".format(correct.item() / len(test_dataset)))\n",
    "    correct = 0\n",
    "    for i, data in enumerate(train_loader):\n",
    "        # 获得一个批次的数据和标签\n",
    "        inputs, lables = data\n",
    "        # 获得模型的预测结果 [64,10]\n",
    "        out = model(inputs)\n",
    "        # 获得最大值以及最大值所在的位置\n",
    "        _, predicted = torch.max(out, 1)\n",
    "        correct += (predicted == lables).sum()\n",
    "\n",
    "    print(\"Train acc:{0}\".format(correct.item() / len(test_dataset)))"
   ]
  },
  {
   "cell_type": "code",
   "execution_count": null,
   "id": "4956ded7",
   "metadata": {},
   "outputs": [],
   "source": [
    "for epoch in range(3):\n",
    "    print(\"epoch:\",epoch)\n",
    "    train()\n",
    "    test()"
   ]
  },
  {
   "cell_type": "code",
   "execution_count": null,
   "id": "cae8e16d",
   "metadata": {},
   "outputs": [],
   "source": [
    "torch.save(model.state_dict(),'model/cat_dog.pth')"
   ]
  }
 ],
 "metadata": {
  "kernelspec": {
   "display_name": "Python 3 (ipykernel)",
   "language": "python",
   "name": "python3"
  },
  "language_info": {
   "codemirror_mode": {
    "name": "ipython",
    "version": 3
   },
   "file_extension": ".py",
   "mimetype": "text/x-python",
   "name": "python",
   "nbconvert_exporter": "python",
   "pygments_lexer": "ipython3",
   "version": "3.9.13"
  }
 },
 "nbformat": 4,
 "nbformat_minor": 5
}
