{
 "cells": [
  {
   "cell_type": "code",
   "execution_count": 1,
   "id": "776d4b3f",
   "metadata": {},
   "outputs": [],
   "source": [
    "import numpy as np"
   ]
  },
  {
   "cell_type": "code",
   "execution_count": 2,
   "id": "a9206284",
   "metadata": {},
   "outputs": [],
   "source": [
    "arr=np.array([[1,2,3],[10,100,1000]])"
   ]
  },
  {
   "cell_type": "code",
   "execution_count": 3,
   "id": "a5bf6402",
   "metadata": {},
   "outputs": [
    {
     "name": "stdout",
     "output_type": "stream",
     "text": [
      "[[   1    2    3]\n",
      " [  10  100 1000]]\n"
     ]
    }
   ],
   "source": [
    "print(arr)"
   ]
  },
  {
   "cell_type": "code",
   "execution_count": 4,
   "id": "8ecc221b",
   "metadata": {},
   "outputs": [
    {
     "name": "stdout",
     "output_type": "stream",
     "text": [
      "[[0.         0.69314718 1.09861229]\n",
      " [2.30258509 4.60517019 6.90775528]]\n"
     ]
    }
   ],
   "source": [
    "print(np.log(arr))#表示ln()"
   ]
  },
  {
   "cell_type": "code",
   "execution_count": 5,
   "id": "34868ea0",
   "metadata": {},
   "outputs": [
    {
     "name": "stdout",
     "output_type": "stream",
     "text": [
      "[[0.         0.30103    0.47712125]\n",
      " [1.         2.         3.        ]]\n"
     ]
    }
   ],
   "source": [
    "print(np.log(arr)/np.log(10))#表示lg()"
   ]
  },
  {
   "cell_type": "code",
   "execution_count": null,
   "id": "df924c9f",
   "metadata": {},
   "outputs": [],
   "source": []
  }
 ],
 "metadata": {
  "kernelspec": {
   "display_name": "DL",
   "language": "python",
   "name": "dl"
  },
  "language_info": {
   "codemirror_mode": {
    "name": "ipython",
    "version": 3
   },
   "file_extension": ".py",
   "mimetype": "text/x-python",
   "name": "python",
   "nbconvert_exporter": "python",
   "pygments_lexer": "ipython3",
   "version": "3.9.20"
  }
 },
 "nbformat": 4,
 "nbformat_minor": 5
}
