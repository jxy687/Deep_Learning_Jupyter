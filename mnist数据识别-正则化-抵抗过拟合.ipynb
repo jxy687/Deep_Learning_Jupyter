{
 "cells": [
  {
   "cell_type": "code",
   "execution_count": 1,
   "id": "e7c42643",
   "metadata": {},
   "outputs": [],
   "source": [
    "import numpy as np\n",
    "from torch import nn,optim\n",
    "from torch.autograd import Variable\n",
    "from torchvision import datasets, transforms\n",
    "from torch.utils.data import DataLoader\n",
    "import torch"
   ]
  },
  {
   "cell_type": "code",
   "execution_count": 2,
   "id": "2bd34241",
   "metadata": {},
   "outputs": [],
   "source": [
    "# 训练集\n",
    "train_dataset = datasets.MNIST(root='./',\n",
    "                               train=True,\n",
    "                               transform=transforms.ToTensor(),\n",
    "                               download=True)\n",
    "# 测试集\n",
    "test_dataset = datasets.MNIST(root='./',\n",
    "                               train=False,\n",
    "                               transform=transforms.ToTensor(),\n",
    "                               download=True)"
   ]
  },
  {
   "cell_type": "code",
   "execution_count": 3,
   "id": "3e046498",
   "metadata": {},
   "outputs": [],
   "source": [
    "# 批次大小  想想数据为为什么要分批\n",
    "batch_size =64\n",
    "# 装载训练集\n",
    "train_loader = DataLoader(dataset=train_dataset,\n",
    "                         batch_size=batch_size,\n",
    "                         shuffle=True)\n",
    "# 装载测试集\n",
    "test_loader = DataLoader(dataset=test_dataset,\n",
    "                         batch_size=batch_size,\n",
    "                         shuffle=True)"
   ]
  },
  {
   "cell_type": "code",
   "execution_count": 4,
   "id": "29c748f9",
   "metadata": {},
   "outputs": [
    {
     "data": {
      "text/plain": [
       "10000"
      ]
     },
     "execution_count": 4,
     "metadata": {},
     "output_type": "execute_result"
    }
   ],
   "source": [
    "len(train_loader)\n",
    "len(test_dataset)"
   ]
  },
  {
   "cell_type": "code",
   "execution_count": 5,
   "id": "46c10b1b",
   "metadata": {},
   "outputs": [
    {
     "name": "stdout",
     "output_type": "stream",
     "text": [
      "torch.Size([64, 1, 28, 28])\n",
      "torch.Size([64])\n"
     ]
    }
   ],
   "source": [
    "for i,data in enumerate(train_loader):\n",
    "    inputs,lables = data\n",
    "    print(inputs.shape)\n",
    "    print(lables.shape)\n",
    "    break"
   ]
  },
  {
   "cell_type": "code",
   "execution_count": 6,
   "id": "9f69b4a6",
   "metadata": {},
   "outputs": [
    {
     "data": {
      "text/plain": [
       "938"
      ]
     },
     "execution_count": 6,
     "metadata": {},
     "output_type": "execute_result"
    }
   ],
   "source": [
    "len(train_loader)"
   ]
  },
  {
   "cell_type": "code",
   "execution_count": 7,
   "id": "aec639d1",
   "metadata": {},
   "outputs": [],
   "source": [
    "#定义网络结构\n",
    "class Net(nn.Module):\n",
    "    def __init__(self):\n",
    "        super(Net,self).__init__()\n",
    "        self.layer1 = nn.Sequential(nn.Linear(784,500), nn.Dropout(p=0), nn.Tanh())#p=0表示使用全部的神经元（不使用Dropout），Tanh是激活函数\n",
    "        self.layer2 = nn.Sequential(nn.Linear(500,300), nn.Dropout(p=0), nn.Tanh())\n",
    "        self.layer3 = nn.Sequential(nn.Linear(300,10), nn.Softmax(dim=1))\n",
    "    def forward(self,x):\n",
    "        #[64,1,28,28]->[64,784]\n",
    "        x=x.view(x.size()[0],-1)\n",
    "        x=self.layer1(x)\n",
    "        x=self.layer2(x)\n",
    "        x=self.layer3(x)\n",
    "        return x"
   ]
  },
  {
   "cell_type": "code",
   "execution_count": 8,
   "id": "0baec380",
   "metadata": {},
   "outputs": [],
   "source": [
    "LR = 0.5\n",
    "#定义模型\n",
    "model = Net()\n",
    "#定义代价函数 交叉熵\n",
    "mes_loss = nn.CrossEntropyLoss()\n",
    "#定义优化器 使用L2正则化\n",
    "optimizer = optim.SGD(model.parameters(),LR,weight_decay=0.0001)#weight_decay表示正则化系数"
   ]
  },
  {
   "cell_type": "code",
   "execution_count": 9,
   "id": "41fdd7c2",
   "metadata": {},
   "outputs": [],
   "source": [
    "#训练模型\n",
    "def train():\n",
    "    model.train()#模型的训练状态 Dropout起作用\n",
    "    for i ,data in enumerate(train_loader):\n",
    "        #获得一个批次的数据和标签\n",
    "        inputs,lables = data\n",
    "        #获得模型预测结果\n",
    "        out = model(inputs) #[64,10]\n",
    "        #计算loss 使用交叉熵不需要进行独热编码\n",
    "        loss = mes_loss(out,lables)\n",
    "        #梯度清零\n",
    "        optimizer.zero_grad()\n",
    "        #计算梯度\n",
    "        loss.backward()\n",
    "        #修改权值\n",
    "        optimizer.step()"
   ]
  },
  {
   "cell_type": "code",
   "execution_count": 10,
   "id": "0d7ba50d",
   "metadata": {},
   "outputs": [],
   "source": [
    "def test():\n",
    "    model.eval()#模型的测试状态 Dropout不起作用\n",
    "    #获取测试集的准确率\n",
    "    correct=0\n",
    "    for i,data in enumerate(test_loader):\n",
    "        #获得一个批次的数据和标签\n",
    "        inputs,lables = data\n",
    "        #获得模型的预测结果 [64,10]\n",
    "        out = model(inputs)\n",
    "        #获得最大值以及最大值所在的位置\n",
    "        _, predicted = torch.max(out,1)\n",
    "        correct += (predicted==lables).sum()\n",
    "        \n",
    "    print(\"Test acc:{0}\".format(correct.item()/len(test_dataset)))\n",
    "    print(correct)\n",
    "    \n",
    "    #获取训练集的准确率\n",
    "    correct=0\n",
    "    for i,data in enumerate(train_loader):\n",
    "        #获得一个批次的数据和标签\n",
    "        inputs,lables = data\n",
    "        #获得模型的预测结果 [64,10]\n",
    "        out = model(inputs)\n",
    "        #获得最大值以及最大值所在的位置\n",
    "        _, predicted = torch.max(out,1)\n",
    "        correct += (predicted==lables).sum()\n",
    "        \n",
    "    print(\"Train acc:{0}\".format(correct.item()/len(train_dataset)))\n",
    "    print(correct)\n",
    "        "
   ]
  },
  {
   "cell_type": "code",
   "execution_count": 11,
   "id": "a01c0047",
   "metadata": {},
   "outputs": [
    {
     "name": "stdout",
     "output_type": "stream",
     "text": [
      "epoch: 0\n",
      "Test acc:0.9238\n",
      "tensor(9238)\n",
      "Train acc:0.9177833333333333\n",
      "tensor(55067)\n",
      "epoch: 1\n",
      "Test acc:0.9308\n",
      "tensor(9308)\n",
      "Train acc:0.9311333333333334\n",
      "tensor(55868)\n",
      "epoch: 2\n",
      "Test acc:0.9374\n",
      "tensor(9374)\n",
      "Train acc:0.9421833333333334\n",
      "tensor(56531)\n",
      "epoch: 3\n",
      "Test acc:0.9503\n",
      "tensor(9503)\n",
      "Train acc:0.9535833333333333\n",
      "tensor(57215)\n",
      "epoch: 4\n",
      "Test acc:0.9527\n",
      "tensor(9527)\n",
      "Train acc:0.9577833333333333\n",
      "tensor(57467)\n",
      "epoch: 5\n",
      "Test acc:0.952\n",
      "tensor(9520)\n",
      "Train acc:0.9581833333333334\n",
      "tensor(57491)\n",
      "epoch: 6\n",
      "Test acc:0.948\n",
      "tensor(9480)\n",
      "Train acc:0.9520166666666666\n",
      "tensor(57121)\n",
      "epoch: 7\n",
      "Test acc:0.9599\n",
      "tensor(9599)\n",
      "Train acc:0.9684333333333334\n",
      "tensor(58106)\n",
      "epoch: 8\n",
      "Test acc:0.9627\n",
      "tensor(9627)\n",
      "Train acc:0.9709666666666666\n",
      "tensor(58258)\n",
      "epoch: 9\n",
      "Test acc:0.9645\n",
      "tensor(9645)\n",
      "Train acc:0.97195\n",
      "tensor(58317)\n"
     ]
    }
   ],
   "source": [
    "for epoch in range(10):\n",
    "    print(\"epoch:\",epoch)\n",
    "    train()\n",
    "    test()"
   ]
  },
  {
   "cell_type": "code",
   "execution_count": 12,
   "id": "8d80be89",
   "metadata": {},
   "outputs": [],
   "source": []
  }
 ],
 "metadata": {
  "kernelspec": {
   "display_name": "DL",
   "language": "python",
   "name": "dl"
  },
  "language_info": {
   "codemirror_mode": {
    "name": "ipython",
    "version": 3
   },
   "file_extension": ".py",
   "mimetype": "text/x-python",
   "name": "python",
   "nbconvert_exporter": "python",
   "pygments_lexer": "ipython3",
   "version": "3.9.20"
  }
 },
 "nbformat": 4,
 "nbformat_minor": 5
}
