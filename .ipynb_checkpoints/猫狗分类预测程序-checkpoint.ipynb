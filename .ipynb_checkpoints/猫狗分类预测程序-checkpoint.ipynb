{
 "cells": [
  {
   "cell_type": "code",
   "execution_count": null,
   "id": "da4b3156",
   "metadata": {},
   "outputs": [],
   "source": [
    "import  torch\n",
    "import numpy as np\n",
    "from PIL import Image\n",
    "from scipy.constants import troy_ounce\n",
    "from torchvision import transforms,models"
   ]
  },
  {
   "cell_type": "code",
   "execution_count": null,
   "id": "7c4fa80a",
   "metadata": {},
   "outputs": [],
   "source": [
    "model = models.vgg16(pretrained = True)\n",
    "#构建全新连接层 为了配合自己训练的模型\n",
    "model.classifier = torch.nn.Sequential(torch.nn.Linear(25088,100),\n",
    "                                       torch.nn.ReLU(),\n",
    "                                       torch.nn.Dropout(p=0.5),\n",
    "                                       torch.nn.Linear(100,2))\n",
    "model.load_state_dict(torch.load('model/cat_dog.pth'))\n",
    "model.eval()"
   ]
  },
  {
   "cell_type": "code",
   "execution_count": null,
   "id": "3bba313d",
   "metadata": {},
   "outputs": [],
   "source": [
    "lable = np.array(['cat','dog'])\n",
    "\n",
    "#数据预处理\n",
    "transform = transforms.Compose([\n",
    "    transforms.Resize(224),\n",
    "    transforms.ToTensor()\n",
    "])"
   ]
  },
  {
   "cell_type": "code",
   "execution_count": null,
   "id": "fcc52012",
   "metadata": {},
   "outputs": [],
   "source": [
    "def predict(image_path):\n",
    "    #打开图片\n",
    "    img = Image.open(image_path)\n",
    "    #数据处理，再增加一个维度\n",
    "    img = transform(img).unsqueeze(0)\n",
    "    #预测得到的结果\n",
    "    outputs = model(img)\n",
    "    #获取最大值所在的位置\n",
    "    _,predicted = torch.max(outputs,1)\n",
    "    #转化为类别名称\n",
    "    print(lable[predicted.item()])"
   ]
  },
  {
   "cell_type": "code",
   "execution_count": null,
   "id": "c7280fb1",
   "metadata": {},
   "outputs": [],
   "source": [
    "predict('image/test/cat/cat.1000.jpg')\n",
    "predict('image/test/dog/cat.1006.jpg')\n",
    "predict('image/test/cat/cat.1006.jpg')\n",
    "predict('image/test/dog/cat.1007.jpg')"
   ]
  }
 ],
 "metadata": {
  "kernelspec": {
   "display_name": "DL",
   "language": "python",
   "name": "dl"
  },
  "language_info": {
   "codemirror_mode": {
    "name": "ipython",
    "version": 3
   },
   "file_extension": ".py",
   "mimetype": "text/x-python",
   "name": "python",
   "nbconvert_exporter": "python",
   "pygments_lexer": "ipython3",
   "version": "3.9.20"
  }
 },
 "nbformat": 4,
 "nbformat_minor": 5
}
